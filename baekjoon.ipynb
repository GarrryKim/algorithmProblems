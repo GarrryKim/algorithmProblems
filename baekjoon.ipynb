{
 "cells": [
  {
   "cell_type": "code",
   "execution_count": 2,
   "metadata": {},
   "outputs": [
    {
     "name": "stdout",
     "output_type": "stream",
     "text": [
      "0\n"
     ]
    }
   ],
   "source": [
    "# 10988\n",
    "str = input()\n",
    "\n",
    "reversed_str = str[::-1]\n",
    "\n",
    "if str == reversed_str:\n",
    "    print(1)\n",
    "else:\n",
    "    print(0)"
   ]
  },
  {
   "cell_type": "code",
   "execution_count": null,
   "metadata": {},
   "outputs": [],
   "source": []
  },
  {
   "cell_type": "code",
   "execution_count": 50,
   "metadata": {},
   "outputs": [
    {
     "name": "stdout",
     "output_type": "stream",
     "text": [
      "A\n"
     ]
    }
   ],
   "source": [
    "# 1157\n",
    "str = input().upper()\n",
    "str_set = set(str)\n",
    "str_list_alphabet = sorted(list(str_set))\n",
    "dict_alphabet = {}\n",
    "\n",
    "count = []\n",
    "\n",
    "for i in range(len(str_list_alphabet)):\n",
    "    count.append(0)\n",
    "    for j in range(len(str)):\n",
    "        if str[j] == str_list_alphabet[i]:\n",
    "            count[i] += 1\n",
    "\n",
    "sorted_count = sorted(count)\n",
    "\n",
    "if len(str_set) == 1:\n",
    "    print(str_list_alphabet[0])\n",
    "elif sorted_count[len(str_set)-1] == sorted_count[len(str_set)-2]:\n",
    "    print('?')\n",
    "else:\n",
    "    print(str_list_alphabet[count.index(max(count))])\n",
    "    \n"
   ]
  },
  {
   "cell_type": "code",
   "execution_count": 67,
   "metadata": {},
   "outputs": [
    {
     "name": "stdout",
     "output_type": "stream",
     "text": [
      "3\n"
     ]
    }
   ],
   "source": [
    "# 2941. 크로아티아 알파벳\n",
    "\n",
    "str = input()\n",
    "alphabets = set()\n",
    "temp_str = ''\n",
    "croatian_character = 0\n",
    "count = 0\n",
    "\n",
    "for i in range(len(str)):\n",
    "    \n",
    "    if croatian_character == 2:\n",
    "        croatian_character = 1\n",
    "           \n",
    "    elif croatian_character == 1:\n",
    "        croatian_character = 0\n",
    "            \n",
    "    elif i == len(str) - 1:\n",
    "        temp_str = str[i]\n",
    "        count += 1\n",
    "    \n",
    "    # 문자 c를 만났을 때 크로아티아 알파벳인지 판단\n",
    "    elif str[i] == 'c':\n",
    "        if str[i+1] == '=':\n",
    "            temp_str = str[i] + str[i+1]\n",
    "            croatian_character = 1\n",
    "        elif str[i+1] == '-':\n",
    "            temp_str = str[i] + str[i+1]\n",
    "            croatian_character = 1\n",
    "        count += 1\n",
    "            \n",
    "    # 문자 d를 만났을 때 크로아티아 알파벳인지 판단\n",
    "    elif str[i] == 'd':\n",
    "        if str[i+1] == '-':\n",
    "            temp_str = str[i] + str[i+1]\n",
    "            croatian_character = 1\n",
    "        elif str[i+1] == 'z':\n",
    "            if i+1 == len(str) - 1:\n",
    "                temp_str = 'dz'\n",
    "            else:\n",
    "                temp_str = str[i] + str[i+1] + str[i+2]\n",
    "                croatian_character = 2\n",
    "        count += 1\n",
    "    \n",
    "    # 문자 l를 만났을 때 크로아티아 알파벳인지 판단\n",
    "    elif str[i] == 'l':\n",
    "        if str[i+1] == 'j':\n",
    "            temp_str = str[i] + str[i+1]\n",
    "            croatian_character = 1\n",
    "        count += 1\n",
    "            \n",
    "    # 문자 n를 만났을 때 크로아티아 알파벳인지 판단\n",
    "    elif str[i] == 'n':\n",
    "        if str[i+1] == 'j':\n",
    "            temp_str = str[i] + str[i+1]\n",
    "            croatian_character = 1 \n",
    "        count += 1\n",
    "    \n",
    "    # 문자 s를 만났을 때 크로아티아 알파벳인지 판단\n",
    "    elif str[i] == 's':\n",
    "        if str[i+1] == '=':\n",
    "            temp_str = str[i] + str[i+1]\n",
    "            croatian_character = 1 \n",
    "        count += 1\n",
    "            \n",
    "    # 문자 z를 만났을 때 크로아티아 알파벳인지 판단\n",
    "    elif str[i] == 'z':\n",
    "        if str[i+1] == '=':\n",
    "            temp_str = str[i] + str[i+1]\n",
    "            croatian_character = 1 \n",
    "        count += 1\n",
    "    else:\n",
    "        temp_str = str[i]\n",
    "        count += 1\n",
    "\n",
    "print(count)"
   ]
  },
  {
   "cell_type": "code",
   "execution_count": 36,
   "metadata": {},
   "outputs": [
    {
     "name": "stdout",
     "output_type": "stream",
     "text": [
      "ab\n",
      "{'a', 'b'}\n"
     ]
    }
   ],
   "source": [
    "str1 = 'a'\n",
    "str2 = 'b'\n",
    "\n",
    "print(str1 + str2)\n",
    "print(set(str1+str2))"
   ]
  },
  {
   "cell_type": "code",
   "execution_count": 87,
   "metadata": {},
   "outputs": [
    {
     "name": "stdout",
     "output_type": "stream",
     "text": [
      "3\n"
     ]
    }
   ],
   "source": [
    "# 2941. 크로아티아 알파벳\n",
    "\n",
    "str = input()\n",
    "alphabets = set()\n",
    "croatian_character = 0\n",
    "count = 0\n",
    "\n",
    "for i in range(len(str)):\n",
    "    \n",
    "    if croatian_character == 2:\n",
    "        croatian_character = 1\n",
    "           \n",
    "    elif croatian_character == 1:\n",
    "        croatian_character = 0\n",
    "            \n",
    "    elif i == len(str) - 1:\n",
    "        count += 1\n",
    "    \n",
    "    # 문자 c를 만났을 때 크로아티아 알파벳인지 판단\n",
    "    elif str[i] == 'c':\n",
    "        if str[i+1] == '=':\n",
    "            croatian_character = 1\n",
    "        elif str[i+1] == '-':\n",
    "            croatian_character = 1\n",
    "        count += 1\n",
    "            \n",
    "    # 문자 d를 만났을 때 크로아티아 알파벳인지 판단\n",
    "    # dzzzz 처럼 dz 이후에 =가 아닌 다른 문자가 나오면 어떻게 되는지? 고려하지 않아 헤맸음\n",
    "    elif str[i] == 'd':\n",
    "        if str[i+1] == '-':\n",
    "            croatian_character = 1\n",
    "        elif str[i+1] == 'z':\n",
    "            if i+1 == len(str) - 1:\n",
    "                pass\n",
    "            elif str[i+2] == '=':\n",
    "                croatian_character = 2\n",
    "        count += 1\n",
    "    \n",
    "    # 문자 l를 만났을 때 크로아티아 알파벳인지 판단\n",
    "    elif str[i] == 'l':\n",
    "        if str[i+1] == 'j':\n",
    "            croatian_character = 1\n",
    "        count += 1\n",
    "            \n",
    "    # 문자 n를 만났을 때 크로아티아 알파벳인지 판단\n",
    "    elif str[i] == 'n':\n",
    "        if str[i+1] == 'j':\n",
    "            croatian_character = 1 \n",
    "        count += 1\n",
    "    \n",
    "    # 문자 s를 만났을 때 크로아티아 알파벳인지 판단\n",
    "    elif str[i] == 's':\n",
    "        if str[i+1] == '=':\n",
    "            croatian_character = 1 \n",
    "        count += 1\n",
    "            \n",
    "    # 문자 z를 만났을 때 크로아티아 알파벳인지 판단\n",
    "    elif str[i] == 'z':\n",
    "        if str[i+1] == '=':\n",
    "            croatian_character = 1 \n",
    "        count += 1\n",
    "        \n",
    "    else:\n",
    "        count += 1\n",
    "\n",
    "print(count)"
   ]
  },
  {
   "cell_type": "code",
   "execution_count": 141,
   "metadata": {},
   "outputs": [
    {
     "name": "stdout",
     "output_type": "stream",
     "text": [
      "2\n"
     ]
    }
   ],
   "source": [
    "# 1316. 그룹 단어 체커\n",
    "\n",
    "N = int(input())\n",
    "count = 0\n",
    "count_continuous_alphabet = 0\n",
    "non_group = 0\n",
    "\n",
    "for i in range(N):\n",
    "    \n",
    "    str = input()\n",
    "    \n",
    "    for j in range(len(str)):\n",
    "        if j == 0:\n",
    "            count_continuous_alphabet += 1\n",
    "        elif str[j] == str[j-1]:\n",
    "            continue\n",
    "        else:\n",
    "            count_continuous_alphabet += 1\n",
    "\n",
    "    if len(set(str)) == count_continuous_alphabet:\n",
    "        count += 1\n",
    "    else:\n",
    "        non_group += 1\n",
    "        \n",
    "    # 반복문 내에서 사용된 판단을 위한 임시 저장값을 0으로 다시 변수 선언을 해줘야 함.\n",
    "    count_continuous_alphabet = 0\n",
    "\n",
    "print(count)"
   ]
  },
  {
   "cell_type": "code",
   "execution_count": 145,
   "metadata": {},
   "outputs": [
    {
     "ename": "IndexError",
     "evalue": "list index out of range",
     "output_type": "error",
     "traceback": [
      "\u001b[1;31m---------------------------------------------------------------------------\u001b[0m",
      "\u001b[1;31mIndexError\u001b[0m                                Traceback (most recent call last)",
      "Cell \u001b[1;32mIn[145], line 28\u001b[0m\n\u001b[0;32m     26\u001b[0m \u001b[38;5;28;01mfor\u001b[39;00m i \u001b[38;5;129;01min\u001b[39;00m \u001b[38;5;28mrange\u001b[39m(\u001b[38;5;241m20\u001b[39m):\n\u001b[0;32m     27\u001b[0m     info_scores \u001b[38;5;241m=\u001b[39m \u001b[38;5;28mlist\u001b[39m(\u001b[38;5;28minput\u001b[39m()\u001b[38;5;241m.\u001b[39msplit())\n\u001b[1;32m---> 28\u001b[0m     \u001b[38;5;28;01mif\u001b[39;00m \u001b[43minfo_scores\u001b[49m\u001b[43m[\u001b[49m\u001b[38;5;241;43m2\u001b[39;49m\u001b[43m]\u001b[49m \u001b[38;5;241m==\u001b[39m \u001b[38;5;124m'\u001b[39m\u001b[38;5;124mP\u001b[39m\u001b[38;5;124m'\u001b[39m:\n\u001b[0;32m     29\u001b[0m         \u001b[38;5;28;01mcontinue\u001b[39;00m\n\u001b[0;32m     30\u001b[0m     \u001b[38;5;28;01melse\u001b[39;00m:\n",
      "\u001b[1;31mIndexError\u001b[0m: list index out of range"
     ]
    }
   ],
   "source": [
    "# 25206. 너의 평점은\n",
    "total_scores = 0\n",
    "sum_classes = 0\n",
    "\n",
    "\n",
    "def score(grade):\n",
    "    if grade == 'A+':\n",
    "        return 4.5\n",
    "    elif grade == 'A0':\n",
    "        return 4.0\n",
    "    elif grade == 'B+':\n",
    "        return 3.5\n",
    "    elif grade == 'B0':\n",
    "        return 3.0\n",
    "    elif grade == 'C+':\n",
    "        return 2.5\n",
    "    elif grade == 'C0':\n",
    "        return 2.0\n",
    "    elif grade == 'D+':\n",
    "        return 1.5\n",
    "    elif grade == 'D0':\n",
    "        return 1.0\n",
    "    elif grade == 'F':\n",
    "        return 0.0\n",
    "\n",
    "for i in range(20):\n",
    "    info_scores = list(input().split())\n",
    "    if info_scores[2] == 'P':\n",
    "        continue\n",
    "    else:\n",
    "        sum_classes += float(info_scores[1])\n",
    "        total_scores += float(info_scores[1]) * score(info_scores[2])\n",
    "\n",
    "avg_scores = total_scores / sum_classes\n",
    "print(avg_scores)"
   ]
  },
  {
   "cell_type": "code",
   "execution_count": null,
   "metadata": {},
   "outputs": [
    {
     "name": "stdout",
     "output_type": "stream",
     "text": [
      "3\n"
     ]
    }
   ],
   "source": [
    "# 2941. 크로아티아 알파벳\n",
    "\n",
    "str = input()\n",
    "alphabets = set()\n",
    "temp_str = ''\n",
    "croatian_character = 0\n",
    "count = 0\n",
    "\n",
    "for i in range(len(str)):\n",
    "    \n",
    "    if croatian_character == 2:\n",
    "        croatian_character = 1\n",
    "           \n",
    "    elif croatian_character == 1:\n",
    "        croatian_character = 0\n",
    "            \n",
    "    elif i == len(str) - 1:\n",
    "        temp_str = str[i]\n",
    "        count += 1\n",
    "    \n",
    "    # 문자 c를 만났을 때 크로아티아 알파벳인지 판단\n",
    "    elif str[i] == 'c':\n",
    "        if str[i+1] == '=':\n",
    "            temp_str = str[i] + str[i+1]\n",
    "            croatian_character = 1\n",
    "        elif str[i+1] == '-':\n",
    "            temp_str = str[i] + str[i+1]\n",
    "            croatian_character = 1\n",
    "        count += 1\n",
    "            \n",
    "    # 문자 d를 만났을 때 크로아티아 알파벳인지 판단\n",
    "    elif str[i] == 'd':\n",
    "        if str[i+1] == '-':\n",
    "            temp_str = str[i] + str[i+1]\n",
    "            croatian_character = 1\n",
    "        elif str[i+1] == 'z':\n",
    "            if i+1 == len(str) - 1:\n",
    "                temp_str = 'dz'\n",
    "            else:\n",
    "                temp_str = str[i] + str[i+1] + str[i+2]\n",
    "                croatian_character = 2\n",
    "        count += 1\n",
    "    \n",
    "    # 문자 l를 만났을 때 크로아티아 알파벳인지 판단\n",
    "    elif str[i] == 'l':\n",
    "        if str[i+1] == 'j':\n",
    "            temp_str = str[i] + str[i+1]\n",
    "            croatian_character = 1\n",
    "        count += 1\n",
    "            \n",
    "    # 문자 n를 만났을 때 크로아티아 알파벳인지 판단\n",
    "    elif str[i] == 'n':\n",
    "        if str[i+1] == 'j':\n",
    "            temp_str = str[i] + str[i+1]\n",
    "            croatian_character = 1 \n",
    "        count += 1\n",
    "    \n",
    "    # 문자 s를 만났을 때 크로아티아 알파벳인지 판단\n",
    "    elif str[i] == 's':\n",
    "        if str[i+1] == '=':\n",
    "            temp_str = str[i] + str[i+1]\n",
    "            croatian_character = 1 \n",
    "        count += 1\n",
    "            \n",
    "    # 문자 z를 만났을 때 크로아티아 알파벳인지 판단\n",
    "    elif str[i] == 'z':\n",
    "        if str[i+1] == '=':\n",
    "            temp_str = str[i] + str[i+1]\n",
    "            croatian_character = 1 \n",
    "        count += 1\n",
    "    else:\n",
    "        temp_str = str[i]\n",
    "        count += 1\n",
    "\n",
    "print(count)"
   ]
  },
  {
   "cell_type": "code",
   "execution_count": 154,
   "metadata": {},
   "outputs": [
    {
     "name": "stdout",
     "output_type": "stream",
     "text": [
      "4 4 4\n",
      "6 6 6\n",
      "5 6 100\n"
     ]
    }
   ],
   "source": [
    "# 2738. 행렬 덧셈\n",
    "\n",
    "N, M = map(int,input().split())\n",
    "array_A = []\n",
    "array_B = []\n",
    "array_sum = []\n",
    "\n",
    "for i in range(N):\n",
    "    array_A.append(list(map(int,input().split())))\n",
    "    \n",
    "for i in range(N):\n",
    "    array_B.append(list(map(int,input().split())))\n",
    "\n",
    "for i in range(N):\n",
    "    array_sum.append([])\n",
    "    for j in range(M):\n",
    "        array_sum[i].append(array_A[i][j] + array_B[i][j])\n",
    "    print(*array_sum[i])\n",
    "\n"
   ]
  },
  {
   "cell_type": "code",
   "execution_count": 159,
   "metadata": {},
   "outputs": [
    {
     "ename": "IndexError",
     "evalue": "list assignment index out of range",
     "output_type": "error",
     "traceback": [
      "\u001b[1;31m---------------------------------------------------------------------------\u001b[0m",
      "\u001b[1;31mIndexError\u001b[0m                                Traceback (most recent call last)",
      "Cell \u001b[1;32mIn[159], line 8\u001b[0m\n\u001b[0;32m      5\u001b[0m max_column \u001b[38;5;241m=\u001b[39m \u001b[38;5;241m0\u001b[39m\n\u001b[0;32m      7\u001b[0m \u001b[38;5;28;01mfor\u001b[39;00m i \u001b[38;5;129;01min\u001b[39;00m \u001b[38;5;28mrange\u001b[39m(\u001b[38;5;241m9\u001b[39m):\n\u001b[1;32m----> 8\u001b[0m     \u001b[43mtemp_column\u001b[49m\u001b[43m[\u001b[49m\u001b[38;5;241;43m0\u001b[39;49m\u001b[43m]\u001b[49m \u001b[38;5;241m=\u001b[39m \u001b[38;5;28mlist\u001b[39m(\u001b[38;5;28mmap\u001b[39m(\u001b[38;5;28mint\u001b[39m,\u001b[38;5;28minput\u001b[39m()\u001b[38;5;241m.\u001b[39msplit()))\n\u001b[0;32m      9\u001b[0m     array_row_column\u001b[38;5;241m.\u001b[39mappend(temp_column)\n\u001b[0;32m     10\u001b[0m     array_row_max\u001b[38;5;241m.\u001b[39mappend(\u001b[38;5;28mmax\u001b[39m(temp_column))\n",
      "\u001b[1;31mIndexError\u001b[0m: list assignment index out of range"
     ]
    }
   ],
   "source": [
    "#2566. 최댓값\n",
    "\n",
    "array_row_column = []\n",
    "temp_row = []\n",
    "array_row_max = []\n",
    "array_row_max_index = []\n",
    "\n",
    "max_row = 0\n",
    "max_column = 0\n",
    "\n",
    "for i in range(9):\n",
    "    temp_row = list(map(int,input().split()))\n",
    "    array_row_column.append(temp_row)\n",
    "    \n",
    "    array_row_max.append(max(temp_row))\n",
    "    \n",
    "    temp_row = []\n",
    "    \n",
    "max_row = max(*array_row_max)\n",
    "max_row_index = array_row_max.index(max_row)\n",
    "max_column_index = array_row_column[max_row_index].index(max_row)\n",
    "\n",
    "print(max_row)\n",
    "print(f'{max_row_index+1} {max_column_index+1}')"
   ]
  },
  {
   "cell_type": "code",
   "execution_count": 4,
   "metadata": {},
   "outputs": [
    {
     "name": "stdout",
     "output_type": "stream",
     "text": [
      "AABCDDafzz09121a8EWg6P5h3kxAABCDDafzz09121a8EWg6P5h3kxAABCDDafzz09121a8EWg6P5h3kxAABCDDafzz09121a8EWg6P5h3kxAABCDDafzz09121a8EWg6P5h3kx[['A', 'A', 'B', 'C', 'D', 'D', 'a', 'f', 'z', 'z', '0', '9', '1', '2', '1', 'a', '8', 'E', 'W', 'g', '6', 'P', '5', 'h', '3', 'k', 'x'], ['A', 'A', 'B', 'C', 'D', 'D', 'a', 'f', 'z', 'z', '0', '9', '1', '2', '1', 'a', '8', 'E', 'W', 'g', '6', 'P', '5', 'h', '3', 'k', 'x'], ['A', 'A', 'B', 'C', 'D', 'D', 'a', 'f', 'z', 'z', '0', '9', '1', '2', '1', 'a', '8', 'E', 'W', 'g', '6', 'P', '5', 'h', '3', 'k', 'x'], ['A', 'A', 'B', 'C', 'D', 'D', 'a', 'f', 'z', 'z', '0', '9', '1', '2', '1', 'a', '8', 'E', 'W', 'g', '6', 'P', '5', 'h', '3', 'k', 'x'], ['A', 'A', 'B', 'C', 'D', 'D', 'a', 'f', 'z', 'z', '0', '9', '1', '2', '1', 'a', '8', 'E', 'W', 'g', '6', 'P', '5', 'h', '3', 'k', 'x']]\n"
     ]
    }
   ],
   "source": [
    "str = []\n",
    "trans_str = []\n",
    "\n",
    "for i in range(5):\n",
    "    str.append(input().split())\n",
    "    print(*str[i],sep=\"\",end=\"\")\n",
    "    "
   ]
  }
 ],
 "metadata": {
  "kernelspec": {
   "display_name": "Python 3",
   "language": "python",
   "name": "python3"
  },
  "language_info": {
   "codemirror_mode": {
    "name": "ipython",
    "version": 3
   },
   "file_extension": ".py",
   "mimetype": "text/x-python",
   "name": "python",
   "nbconvert_exporter": "python",
   "pygments_lexer": "ipython3",
   "version": "3.9.13"
  }
 },
 "nbformat": 4,
 "nbformat_minor": 2
}
