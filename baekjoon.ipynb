{
 "cells": [
  {
   "cell_type": "code",
   "execution_count": 2,
   "metadata": {},
   "outputs": [
    {
     "name": "stdout",
     "output_type": "stream",
     "text": [
      "0\n"
     ]
    }
   ],
   "source": [
    "# 10988\n",
    "str = input()\n",
    "\n",
    "reversed_str = str[::-1]\n",
    "\n",
    "if str == reversed_str:\n",
    "    print(1)\n",
    "else:\n",
    "    print(0)"
   ]
  },
  {
   "cell_type": "code",
   "execution_count": null,
   "metadata": {},
   "outputs": [],
   "source": []
  },
  {
   "cell_type": "code",
   "execution_count": 50,
   "metadata": {},
   "outputs": [
    {
     "name": "stdout",
     "output_type": "stream",
     "text": [
      "A\n"
     ]
    }
   ],
   "source": [
    "# 1157\n",
    "str = input().upper()\n",
    "str_set = set(str)\n",
    "str_list_alphabet = sorted(list(str_set))\n",
    "dict_alphabet = {}\n",
    "\n",
    "count = []\n",
    "\n",
    "for i in range(len(str_list_alphabet)):\n",
    "    count.append(0)\n",
    "    for j in range(len(str)):\n",
    "        if str[j] == str_list_alphabet[i]:\n",
    "            count[i] += 1\n",
    "\n",
    "sorted_count = sorted(count)\n",
    "\n",
    "if len(str_set) == 1:\n",
    "    print(str_list_alphabet[0])\n",
    "elif sorted_count[len(str_set)-1] == sorted_count[len(str_set)-2]:\n",
    "    print('?')\n",
    "else:\n",
    "    print(str_list_alphabet[count.index(max(count))])\n",
    "    \n"
   ]
  },
  {
   "cell_type": "code",
   "execution_count": null,
   "metadata": {},
   "outputs": [],
   "source": [
    "# 2941\n",
    "\n",
    "str = input()\n",
    "\n"
   ]
  }
 ],
 "metadata": {
  "kernelspec": {
   "display_name": "Python 3",
   "language": "python",
   "name": "python3"
  },
  "language_info": {
   "codemirror_mode": {
    "name": "ipython",
    "version": 3
   },
   "file_extension": ".py",
   "mimetype": "text/x-python",
   "name": "python",
   "nbconvert_exporter": "python",
   "pygments_lexer": "ipython3",
   "version": "3.9.13"
  }
 },
 "nbformat": 4,
 "nbformat_minor": 2
}
